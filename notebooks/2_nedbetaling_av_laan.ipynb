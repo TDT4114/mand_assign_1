{
 "cells": [
  {
   "cell_type": "markdown",
   "metadata": {
    "editable": true,
    "slideshow": {
     "slide_type": ""
    },
    "tags": []
   },
   "source": [
    "# Nedbetaling av serielån\n",
    "\n",
    "**Læringsmål:**\n",
    "\n",
    "* While-løkker med oppsamling\n",
    "\n",
    "**Introduksjon:**\n",
    "\n",
    "Et serielån er en type lån hvor tilbakebetalingen skjer i faste beløp av hovedstolen, noe som betyr at renten beregnes på det gjenværende beløpet hver periode. Hovedstolen tilbakebetales i like store avdrag, mens renten gradvis synker ettersom hovedstolen blir mindre. Dette fører til at de totale månedlige innbetalingene avtar over tid.\n",
    "\n",
    "Hovedstol refererer til det opprinnelige lånebeløpet som en låntaker mottar fra långiveren. Det er det beløpet som renten beregnes på, og som skal tilbakebetales over tid. Hovedstolen inkluderer ikke renter eller gebyrer; det er kun selve lånebeløpet.\n",
    "\n",
    "For eksempel, hvis du tar opp et lån på 100 000 kr, er hovedstolen 100 000 kr. Når du betaler tilbake lånet, betaler du både avdrag på hovedstolen og renter på det gjenværende beløpet. Hovedstolen reduseres etter hvert som du gjør innbetalinger, noe som også fører til at renten som beregnes på lånet blir lavere over tid.\n",
    "\n",
    "\n",
    "Eksempel:\n",
    "\n",
    "La oss si at du tar opp et serielån på 100 000 kr med en rente på 5 % og en nedbetalingstid på 5 år.\n",
    "\n",
    "- Hovedstolen deles opp i like store avdrag, som i dette tilfellet blir 100 000 kr / 60 måneder = 1 666,67 kr per måned i avdrag (for 5 år).\n",
    "- Renten for den første måneden kalkuleres på hele beløpet (100 000 kr), så renten blir 100 000 kr * 0,05 / 12 ≈ 416,67 kr.\n",
    "- Den totale innbetalingen for den første måneden blir da 1 666,67 kr (avdrag) + 416,67 kr (rente) = 2 083,34 kr.\n",
    "- I den andre måneden vil renten være basert på det gjenværende lånet (98 333,33 kr), og så videre.\n",
    "\n",
    "\n",
    "Bruk gjerne [Serielånskalkulatoren](https://www.smartepenger.no/105-kalkulator/978-serielanskalkulator) til Smarte Penger for å gjøre deg kjent med hvordan serie lån fungerer."
   ]
  },
  {
   "cell_type": "markdown",
   "metadata": {},
   "source": [
    "## a) Registrere en innbetaling:\n",
    "Skriv en funksjon som registrerer innbetalingen for et serielån. Funksjonen skal ta inn månedlig innbetaling, rente og gjenværende hovedstol og returnere det nye gjenværende beløpet etter innbetalingen."
   ]
  },
  {
   "cell_type": "code",
   "execution_count": 14,
   "metadata": {
    "nbgrader": {
     "grade": false,
     "grade_id": "cell-916064d0f8d9d3ef",
     "locked": false,
     "schema_version": 3,
     "solution": true,
     "task": false
    }
   },
   "outputs": [
    {
     "data": {
      "text/plain": [
       "90000.0"
      ]
     },
     "execution_count": 14,
     "metadata": {},
     "output_type": "execute_result"
    }
   ],
   "source": [
    "# Skriv din kode her...\n",
    "def nytt_lånebeløp(månedlig_innbetaling, rente, gammelt_lånebeløp):\n",
    "    avdrag = månedlig_innbetaling - gammelt_lånebeløp * rente\n",
    "    return gammelt_lånebeløp - avdrag\n",
    "\n",
    "nytt_lånebeløp(15000, 0.05, 100000)\n",
    "\n",
    "    "
   ]
  },
  {
   "cell_type": "markdown",
   "metadata": {},
   "source": [
    "## b) Finne nedbetalingstid:\n",
    "Skriv en funksjon som finner nedbetalingstiden i måneder for et serielån basert på lånebeløp, månedlig avdrag og rente. Funksjonen bør returnere antall måneder det tar å betale ned lånet.\n",
    "Bruk funksjonen fra oppgave a) for å finne ut hva gjenvaerende_hovedstol er etter hver betaling. \n"
   ]
  },
  {
   "cell_type": "code",
   "execution_count": 10,
   "metadata": {
    "nbgrader": {
     "grade": false,
     "grade_id": "cell-3c6ef7bba03d7350",
     "locked": false,
     "schema_version": 3,
     "solution": true,
     "task": false
    }
   },
   "outputs": [
    {
     "data": {
      "text/plain": [
       "10"
      ]
     },
     "execution_count": 10,
     "metadata": {},
     "output_type": "execute_result"
    }
   ],
   "source": [
    "# Skriv din kode her...\n",
    "def nedbetalingstid(lånebeløp, månedlig_avdrag):\n",
    "    måneder = 0\n",
    "    restlån = lånebeløp \n",
    "    while restlån > 0:\n",
    "        restlån -= månedlig_avdrag\n",
    "        måneder += 1 \n",
    "    return måneder\n",
    " \n",
    "nedbetalingstid(100000, 10000)    "
   ]
  },
  {
   "cell_type": "markdown",
   "metadata": {},
   "source": [
    "## c) \n",
    "Endre funksjonen fra oppgave b slik at maanedlig_avdrag, rente_kostnad og gjenvaerende_hovedstol for hver måned returneres i som en liste i tillegg til total nedbetalingstid.\n",
    "\n"
   ]
  },
  {
   "cell_type": "code",
   "execution_count": 13,
   "metadata": {},
   "outputs": [
    {
     "name": "stdout",
     "output_type": "stream",
     "text": [
      "Månedlig_avdrag   rente_kostnad    gjenværende_hovedstol\n",
      "[10000, 80000.0, 990000]\n",
      "[10000, 79200.0, 980000]\n",
      "[10000, 78400.0, 970000]\n",
      "[10000, 77600.0, 960000]\n",
      "[10000, 76800.0, 950000]\n",
      "[10000, 76000.0, 940000]\n",
      "[10000, 75200.0, 930000]\n",
      "[10000, 74400.0, 920000]\n",
      "[10000, 73600.0, 910000]\n",
      "[10000, 72800.0, 900000]\n",
      "[10000, 72000.0, 890000]\n",
      "[10000, 71200.0, 880000]\n",
      "[10000, 70400.0, 870000]\n",
      "[10000, 69600.0, 860000]\n",
      "[10000, 68800.0, 850000]\n",
      "[10000, 68000.0, 840000]\n",
      "[10000, 67200.0, 830000]\n",
      "[10000, 66400.0, 820000]\n",
      "[10000, 65600.0, 810000]\n",
      "[10000, 64800.0, 800000]\n",
      "[10000, 64000.0, 790000]\n",
      "[10000, 63200.0, 780000]\n",
      "[10000, 62400.0, 770000]\n",
      "[10000, 61600.0, 760000]\n",
      "[10000, 60800.0, 750000]\n",
      "[10000, 60000.0, 740000]\n",
      "[10000, 59200.0, 730000]\n",
      "[10000, 58400.0, 720000]\n",
      "[10000, 57600.0, 710000]\n",
      "[10000, 56800.0, 700000]\n",
      "[10000, 56000.0, 690000]\n",
      "[10000, 55200.0, 680000]\n",
      "[10000, 54400.0, 670000]\n",
      "[10000, 53600.0, 660000]\n",
      "[10000, 52800.0, 650000]\n",
      "[10000, 52000.0, 640000]\n",
      "[10000, 51200.0, 630000]\n",
      "[10000, 50400.0, 620000]\n",
      "[10000, 49600.0, 610000]\n",
      "[10000, 48800.0, 600000]\n",
      "[10000, 48000.0, 590000]\n",
      "[10000, 47200.0, 580000]\n",
      "[10000, 46400.0, 570000]\n",
      "[10000, 45600.0, 560000]\n",
      "[10000, 44800.0, 550000]\n",
      "[10000, 44000.0, 540000]\n",
      "[10000, 43200.0, 530000]\n",
      "[10000, 42400.0, 520000]\n",
      "[10000, 41600.0, 510000]\n",
      "[10000, 40800.0, 500000]\n",
      "[10000, 40000.0, 490000]\n",
      "[10000, 39200.0, 480000]\n",
      "[10000, 38400.0, 470000]\n",
      "[10000, 37600.0, 460000]\n",
      "[10000, 36800.0, 450000]\n",
      "[10000, 36000.0, 440000]\n",
      "[10000, 35200.0, 430000]\n",
      "[10000, 34400.0, 420000]\n",
      "[10000, 33600.0, 410000]\n",
      "[10000, 32800.0, 400000]\n",
      "[10000, 32000.0, 390000]\n",
      "[10000, 31200.0, 380000]\n",
      "[10000, 30400.0, 370000]\n",
      "[10000, 29600.0, 360000]\n",
      "[10000, 28800.0, 350000]\n",
      "[10000, 28000.0, 340000]\n",
      "[10000, 27200.0, 330000]\n",
      "[10000, 26400.0, 320000]\n",
      "[10000, 25600.0, 310000]\n",
      "[10000, 24800.0, 300000]\n",
      "[10000, 24000.0, 290000]\n",
      "[10000, 23200.0, 280000]\n",
      "[10000, 22400.0, 270000]\n",
      "[10000, 21600.0, 260000]\n",
      "[10000, 20800.0, 250000]\n",
      "[10000, 20000.0, 240000]\n",
      "[10000, 19200.0, 230000]\n",
      "[10000, 18400.0, 220000]\n",
      "[10000, 17600.0, 210000]\n",
      "[10000, 16800.0, 200000]\n",
      "[10000, 16000.0, 190000]\n",
      "[10000, 15200.0, 180000]\n",
      "[10000, 14400.0, 170000]\n",
      "[10000, 13600.0, 160000]\n",
      "[10000, 12800.0, 150000]\n",
      "[10000, 12000.0, 140000]\n",
      "[10000, 11200.0, 130000]\n",
      "[10000, 10400.0, 120000]\n",
      "[10000, 9600.0, 110000]\n",
      "[10000, 8800.0, 100000]\n",
      "[10000, 8000.0, 90000]\n",
      "[10000, 7200.0, 80000]\n",
      "[10000, 6400.0, 70000]\n",
      "[10000, 5600.0, 60000]\n",
      "[10000, 4800.0, 50000]\n",
      "[10000, 4000.0, 40000]\n",
      "[10000, 3200.0, 30000]\n",
      "[10000, 2400.0, 20000]\n",
      "[10000, 1600.0, 10000]\n",
      "[10000, 800.0, 0]\n",
      "Det tar 100 måneder å betale ned lånet. \n"
     ]
    },
    {
     "data": {
      "text/plain": [
       "100"
      ]
     },
     "execution_count": 13,
     "metadata": {},
     "output_type": "execute_result"
    }
   ],
   "source": [
    "# Skriv din kode her...\n",
    "def nedbetalingstid(lånebeløp, månedlig_avdrag, rente):\n",
    "    print(\"Månedlig_avdrag   rente_kostnad    gjenværende_hovedstol\")\n",
    "    måneder = 0\n",
    "    restlån = lånebeløp \n",
    "    while restlån > 0:\n",
    "        rentekostnad = restlån * rente\n",
    "        restlån -= månedlig_avdrag\n",
    "        måneder += 1 \n",
    "        liste = [månedlig_avdrag, rentekostnad, restlån]\n",
    "        print(liste)\n",
    "    print(f\"Det tar {måneder} måneder å betale ned lånet. \")\n",
    "       \n",
    "    return måneder\n",
    "\n",
    "nedbetalingstid(1000000, 10000, 0.08) \n"
   ]
  }
 ],
 "metadata": {
  "celltoolbar": "Create Assignment",
  "kernelspec": {
   "display_name": "Python 3",
   "language": "python",
   "name": "python3"
  },
  "language_info": {
   "codemirror_mode": {
    "name": "ipython",
    "version": 3
   },
   "file_extension": ".py",
   "mimetype": "text/x-python",
   "name": "python",
   "nbconvert_exporter": "python",
   "pygments_lexer": "ipython3",
   "version": "3.13.1"
  },
  "varInspector": {
   "cols": {
    "lenName": 16,
    "lenType": 16,
    "lenVar": 40
   },
   "kernels_config": {
    "python": {
     "delete_cmd_postfix": "",
     "delete_cmd_prefix": "del ",
     "library": "var_list.py",
     "varRefreshCmd": "print(var_dic_list())"
    },
    "r": {
     "delete_cmd_postfix": ") ",
     "delete_cmd_prefix": "rm(",
     "library": "var_list.r",
     "varRefreshCmd": "cat(var_dic_list()) "
    }
   },
   "types_to_exclude": [
    "module",
    "function",
    "builtin_function_or_method",
    "instance",
    "_Feature"
   ],
   "window_display": false
  }
 },
 "nbformat": 4,
 "nbformat_minor": 4
}
